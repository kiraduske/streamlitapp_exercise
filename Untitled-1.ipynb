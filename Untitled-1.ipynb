{
 "cells": [
  {
   "cell_type": "code",
   "execution_count": 18,
   "metadata": {},
   "outputs": [],
   "source": [
    "import requests\n",
    "import json\n",
    "from pprint import pprint\n"
   ]
  },
  {
   "cell_type": "code",
   "execution_count": 19,
   "metadata": {},
   "outputs": [
    {
     "name": "stdout",
     "output_type": "stream",
     "text": [
      "200\n"
     ]
    }
   ],
   "source": [
    "response = requests.get(\"https://api.randomuser.me/\")\n",
    "print(response.status_code)"
   ]
  },
  {
   "cell_type": "code",
   "execution_count": 24,
   "metadata": {},
   "outputs": [
    {
     "name": "stdout",
     "output_type": "stream",
     "text": [
      "200\n"
     ]
    }
   ],
   "source": [
    "parameters = {\"results\": 10, \"gender\": \"male\", \"nat\": \"us\"}\n",
    "response = requests.get(\"https://api.randomuser.me/\", params=parameters)\n",
    "print(response.status_code)\n",
    "\n"
   ]
  },
  {
   "cell_type": "code",
   "execution_count": 25,
   "metadata": {},
   "outputs": [
    {
     "name": "stdout",
     "output_type": "stream",
     "text": [
      "{\"results\":[{\"gender\":\"male\",\"name\":{\"title\":\"Mr\",\"first\":\"Willard\",\"last\":\"Simmmons\"},\"location\":{\"street\":{\"number\":3277,\"name\":\"Spring St\"},\"city\":\"Salinas\",\"state\":\"Alaska\",\"country\":\"United States\",\"postcode\":81719,\"coordinates\":{\"latitude\":\"15.1287\",\"longitude\":\"174.6538\"},\"timezone\":{\"offset\":\"+1:00\",\"description\":\"Brussels, Copenhagen, Madrid, Paris\"}},\"email\":\"willard.simmmons@example.com\",\"login\":{\"uuid\":\"d75cc0c1-9f74-4d16-bc27-d3e9594d944d\",\"username\":\"smallcat546\",\"password\":\"insertion\",\"salt\":\"fJ9Bq1hA\",\"md5\":\"34977f8c6689b98c69203170abbc5f1e\",\"sha1\":\"6c3a7602cdf95e8534209df7edcbfe9d3b12fde3\",\"sha256\":\"6f2c5f4e1f09b24d5c33f2a2a8adf0c7ec03b0bd8be1807b88770bb2fe1ef630\"},\"dob\":{\"date\":\"1993-05-31T07:06:44.438Z\",\"age\":30},\"registered\":{\"date\":\"2006-10-24T18:31:08.675Z\",\"age\":17},\"phone\":\"(635) 485-3289\",\"cell\":\"(597) 762-8212\",\"id\":{\"name\":\"SSN\",\"value\":\"574-03-5294\"},\"picture\":{\"large\":\"https://randomuser.me/api/portraits/men/92.jpg\",\"medium\":\"https://randomuser.me/api/portraits/med/men/92.jpg\",\"thumbnail\":\"https://randomuser.me/api/portraits/thumb/men/92.jpg\"},\"nat\":\"US\"},{\"gender\":\"male\",\"name\":{\"title\":\"Mr\",\"first\":\"Randy\",\"last\":\"Fowler\"},\"location\":{\"street\":{\"number\":4669,\"name\":\"Northaven Rd\"},\"city\":\"Nashville\",\"state\":\"Georgia\",\"country\":\"United States\",\"postcode\":92322,\"coordinates\":{\"latitude\":\"81.9050\",\"longitude\":\"-2.3580\"},\"timezone\":{\"offset\":\"-12:00\",\"description\":\"Eniwetok, Kwajalein\"}},\"email\":\"randy.fowler@example.com\",\"login\":{\"uuid\":\"ecaa4d32-48b7-4169-be79-c407892ea4fb\",\"username\":\"goldenkoala338\",\"password\":\"hotone\",\"salt\":\"Pq8S6nUU\",\"md5\":\"96ab00727c1bfb4b119f3128be0db658\",\"sha1\":\"5150bee34cca3b67a86afc348c059645ea49804e\",\"sha256\":\"d551be73046cf39466533602fd2e0cf2026b48bfe52bb6b24c0a61c4f9f6d614\"},\"dob\":{\"date\":\"2001-05-11T03:21:26.433Z\",\"age\":23},\"registered\":{\"date\":\"2007-10-04T06:09:47.572Z\",\"age\":16},\"phone\":\"(368) 927-3200\",\"cell\":\"(522) 800-9422\",\"id\":{\"name\":\"SSN\",\"value\":\"436-51-8624\"},\"picture\":{\"large\":\"https://randomuser.me/api/portraits/men/81.jpg\",\"medium\":\"https://randomuser.me/api/portraits/med/men/81.jpg\",\"thumbnail\":\"https://randomuser.me/api/portraits/thumb/men/81.jpg\"},\"nat\":\"US\"},{\"gender\":\"male\",\"name\":{\"title\":\"Mr\",\"first\":\"Jeff\",\"last\":\"Stephens\"},\"location\":{\"street\":{\"number\":2749,\"name\":\"Washington Ave\"},\"city\":\"El Monte\",\"state\":\"Montana\",\"country\":\"United States\",\"postcode\":84190,\"coordinates\":{\"latitude\":\"76.7905\",\"longitude\":\"-104.3486\"},\"timezone\":{\"offset\":\"-7:00\",\"description\":\"Mountain Time (US & Canada)\"}},\"email\":\"jeff.stephens@example.com\",\"login\":{\"uuid\":\"bb7464f4-d3ac-4f4c-9310-734c10f73365\",\"username\":\"ticklishfish668\",\"password\":\"oakland\",\"salt\":\"FVRoD9Nr\",\"md5\":\"a223fe174896e6b89df90328657cebd4\",\"sha1\":\"b0b080585206c4983c77c737199c0d10b2a07389\",\"sha256\":\"e65f7cb574e46f98e5312ba860d04c9ac14d0769299015002bb7df2711f2b1de\"},\"dob\":{\"date\":\"1953-03-20T14:32:40.878Z\",\"age\":71},\"registered\":{\"date\":\"2004-05-27T10:40:54.316Z\",\"age\":19},\"phone\":\"(581) 652-9791\",\"cell\":\"(547) 665-9861\",\"id\":{\"name\":\"SSN\",\"value\":\"331-11-3214\"},\"picture\":{\"large\":\"https://randomuser.me/api/portraits/men/55.jpg\",\"medium\":\"https://randomuser.me/api/portraits/med/men/55.jpg\",\"thumbnail\":\"https://randomuser.me/api/portraits/thumb/men/55.jpg\"},\"nat\":\"US\"},{\"gender\":\"male\",\"name\":{\"title\":\"Mr\",\"first\":\"Luke\",\"last\":\"Campbell\"},\"location\":{\"street\":{\"number\":700,\"name\":\"Daisy Dr\"},\"city\":\"Madison\",\"state\":\"Nebraska\",\"country\":\"United States\",\"postcode\":62935,\"coordinates\":{\"latitude\":\"22.4880\",\"longitude\":\"34.0047\"},\"timezone\":{\"offset\":\"+9:00\",\"description\":\"Tokyo, Seoul, Osaka, Sapporo, Yakutsk\"}},\"email\":\"luke.campbell@example.com\",\"login\":{\"uuid\":\"1ca37a7d-24f4-48d8-8b37-fa4ad4a2187d\",\"username\":\"bigduck719\",\"password\":\"return\",\"salt\":\"FNegSjTa\",\"md5\":\"19df6526a8e1c5aa52fa8b5d37304400\",\"sha1\":\"9fb7f6fe164809bb8bc0b4c280ec5fcde691642d\",\"sha256\":\"7fe7a36afc8b090019a36a41a368c4975baf2d9f79bb86e1f9cb2ab25462ecdd\"},\"dob\":{\"date\":\"1946-07-28T13:38:16.232Z\",\"age\":77},\"registered\":{\"date\":\"2020-10-11T00:37:25.157Z\",\"age\":3},\"phone\":\"(411) 849-6600\",\"cell\":\"(676) 357-0254\",\"id\":{\"name\":\"SSN\",\"value\":\"288-35-3584\"},\"picture\":{\"large\":\"https://randomuser.me/api/portraits/men/46.jpg\",\"medium\":\"https://randomuser.me/api/portraits/med/men/46.jpg\",\"thumbnail\":\"https://randomuser.me/api/portraits/thumb/men/46.jpg\"},\"nat\":\"US\"},{\"gender\":\"male\",\"name\":{\"title\":\"Mr\",\"first\":\"Danny\",\"last\":\"Hanson\"},\"location\":{\"street\":{\"number\":6929,\"name\":\"Thornridge Cir\"},\"city\":\"Waxahachie\",\"state\":\"Georgia\",\"country\":\"United States\",\"postcode\":86866,\"coordinates\":{\"latitude\":\"-57.1563\",\"longitude\":\"25.0477\"},\"timezone\":{\"offset\":\"-3:30\",\"description\":\"Newfoundland\"}},\"email\":\"danny.hanson@example.com\",\"login\":{\"uuid\":\"94fbf266-b8a9-4fd9-9e0f-953ad6552135\",\"username\":\"angryfrog337\",\"password\":\"rhubarb\",\"salt\":\"ab18TGZd\",\"md5\":\"7dbea8da20e3f09768faae2c22529687\",\"sha1\":\"fb63baa8a98aafc182ec22ab1ea56aa7a572a65a\",\"sha256\":\"dfe80ee3c809b03ffd29c5a6624e372662278bd2c0ea270c57ba6faf5c0fc898\"},\"dob\":{\"date\":\"1975-01-02T09:36:26.982Z\",\"age\":49},\"registered\":{\"date\":\"2012-09-19T12:32:56.108Z\",\"age\":11},\"phone\":\"(719) 438-0493\",\"cell\":\"(953) 377-4930\",\"id\":{\"name\":\"SSN\",\"value\":\"568-99-8337\"},\"picture\":{\"large\":\"https://randomuser.me/api/portraits/men/13.jpg\",\"medium\":\"https://randomuser.me/api/portraits/med/men/13.jpg\",\"thumbnail\":\"https://randomuser.me/api/portraits/thumb/men/13.jpg\"},\"nat\":\"US\"},{\"gender\":\"male\",\"name\":{\"title\":\"Mr\",\"first\":\"Douglas\",\"last\":\"Jenkins\"},\"location\":{\"street\":{\"number\":3247,\"name\":\"Homestead Rd\"},\"city\":\"Chicago\",\"state\":\"Wisconsin\",\"country\":\"United States\",\"postcode\":44663,\"coordinates\":{\"latitude\":\"-39.1710\",\"longitude\":\"-127.6492\"},\"timezone\":{\"offset\":\"+3:00\",\"description\":\"Baghdad, Riyadh, Moscow, St. Petersburg\"}},\"email\":\"douglas.jenkins@example.com\",\"login\":{\"uuid\":\"7fa1e128-898a-411b-ab0b-13b0e7432c6f\",\"username\":\"tinydog677\",\"password\":\"shaggy\",\"salt\":\"gF7jSzPu\",\"md5\":\"39d3b806c573291f7b7fd5ac0f1dc025\",\"sha1\":\"e47dd8808556b6c36f6b5dc7f2f89751dadb4b15\",\"sha256\":\"1001ed87a584dff41584b4a82e6b220b2b67c49387b2cf9b9e65a417d0243d8a\"},\"dob\":{\"date\":\"1949-12-04T12:53:01.201Z\",\"age\":74},\"registered\":{\"date\":\"2021-08-23T11:48:48.251Z\",\"age\":2},\"phone\":\"(866) 801-9038\",\"cell\":\"(530) 811-0850\",\"id\":{\"name\":\"SSN\",\"value\":\"008-45-3878\"},\"picture\":{\"large\":\"https://randomuser.me/api/portraits/men/96.jpg\",\"medium\":\"https://randomuser.me/api/portraits/med/men/96.jpg\",\"thumbnail\":\"https://randomuser.me/api/portraits/thumb/men/96.jpg\"},\"nat\":\"US\"},{\"gender\":\"male\",\"name\":{\"title\":\"Mr\",\"first\":\"Tomothy\",\"last\":\"Bell\"},\"location\":{\"street\":{\"number\":6041,\"name\":\"Dogwood Ave\"},\"city\":\"Oxnard\",\"state\":\"Michigan\",\"country\":\"United States\",\"postcode\":92574,\"coordinates\":{\"latitude\":\"28.8359\",\"longitude\":\"64.9296\"},\"timezone\":{\"offset\":\"+2:00\",\"description\":\"Kaliningrad, South Africa\"}},\"email\":\"tomothy.bell@example.com\",\"login\":{\"uuid\":\"109ba39c-0396-43ed-9868-e76354bdf2d0\",\"username\":\"blackmeercat753\",\"password\":\"dwight\",\"salt\":\"yOkLuFSC\",\"md5\":\"853f59b39f3fdcc2895a387167a4b0de\",\"sha1\":\"455f7b579f9d9e00cfb223dd8693a02f44d1a4f4\",\"sha256\":\"f74ec190da6d1d4e3cde3adcd6f2c481b40d668dc8be8588959c76bbf831b5de\"},\"dob\":{\"date\":\"1947-12-15T16:01:03.818Z\",\"age\":76},\"registered\":{\"date\":\"2016-11-08T19:20:01.326Z\",\"age\":7},\"phone\":\"(761) 731-3925\",\"cell\":\"(994) 613-8209\",\"id\":{\"name\":\"SSN\",\"value\":\"380-28-6426\"},\"picture\":{\"large\":\"https://randomuser.me/api/portraits/men/55.jpg\",\"medium\":\"https://randomuser.me/api/portraits/med/men/55.jpg\",\"thumbnail\":\"https://randomuser.me/api/portraits/thumb/men/55.jpg\"},\"nat\":\"US\"},{\"gender\":\"male\",\"name\":{\"title\":\"Mr\",\"first\":\"Gordon\",\"last\":\"Bell\"},\"location\":{\"street\":{\"number\":881,\"name\":\"Homestead Rd\"},\"city\":\"Princeton\",\"state\":\"Pennsylvania\",\"country\":\"United States\",\"postcode\":35164,\"coordinates\":{\"latitude\":\"-86.5617\",\"longitude\":\"123.9163\"},\"timezone\":{\"offset\":\"+3:30\",\"description\":\"Tehran\"}},\"email\":\"gordon.bell@example.com\",\"login\":{\"uuid\":\"fb8d0c05-4882-4a2f-95d1-6e5e852bc7e5\",\"username\":\"ticklishmouse540\",\"password\":\"laura1\",\"salt\":\"NIg8ehc9\",\"md5\":\"00df0436260814b0da6b510cddb9b3b1\",\"sha1\":\"a8207e44da29b4fd258e44f6cb4143d9593832ab\",\"sha256\":\"4f80aad7e6910cbc8e1e0978a201dd9b6ce42dfb578e2c06d14283b5a403273c\"},\"dob\":{\"date\":\"1950-02-08T12:34:00.555Z\",\"age\":74},\"registered\":{\"date\":\"2014-03-12T05:45:52.114Z\",\"age\":10},\"phone\":\"(630) 637-1179\",\"cell\":\"(763) 454-8779\",\"id\":{\"name\":\"SSN\",\"value\":\"021-54-1325\"},\"picture\":{\"large\":\"https://randomuser.me/api/portraits/men/33.jpg\",\"medium\":\"https://randomuser.me/api/portraits/med/men/33.jpg\",\"thumbnail\":\"https://randomuser.me/api/portraits/thumb/men/33.jpg\"},\"nat\":\"US\"},{\"gender\":\"male\",\"name\":{\"title\":\"Mr\",\"first\":\"Nathan\",\"last\":\"Mitchelle\"},\"location\":{\"street\":{\"number\":1566,\"name\":\"Saddle Dr\"},\"city\":\"Warren\",\"state\":\"West Virginia\",\"country\":\"United States\",\"postcode\":45273,\"coordinates\":{\"latitude\":\"-88.5797\",\"longitude\":\"3.1714\"},\"timezone\":{\"offset\":\"+1:00\",\"description\":\"Brussels, Copenhagen, Madrid, Paris\"}},\"email\":\"nathan.mitchelle@example.com\",\"login\":{\"uuid\":\"adffd45b-a478-4562-b618-f2b6a5ce2a1f\",\"username\":\"bigkoala332\",\"password\":\"5555\",\"salt\":\"xCAuURr0\",\"md5\":\"e318a73a83957b5061b6762fef6573a2\",\"sha1\":\"ee065772a503e0253c8ef35b757356eae1891c9d\",\"sha256\":\"71574f3ffff62e9b0dda69ce8e9a756a7abba4b8a3766a2edbd002bfb4269bea\"},\"dob\":{\"date\":\"1992-01-19T19:31:38.507Z\",\"age\":32},\"registered\":{\"date\":\"2008-12-21T10:08:57.670Z\",\"age\":15},\"phone\":\"(497) 446-3959\",\"cell\":\"(813) 702-0940\",\"id\":{\"name\":\"SSN\",\"value\":\"671-05-6229\"},\"picture\":{\"large\":\"https://randomuser.me/api/portraits/men/58.jpg\",\"medium\":\"https://randomuser.me/api/portraits/med/men/58.jpg\",\"thumbnail\":\"https://randomuser.me/api/portraits/thumb/men/58.jpg\"},\"nat\":\"US\"},{\"gender\":\"male\",\"name\":{\"title\":\"Mr\",\"first\":\"Derrick\",\"last\":\"Wagner\"},\"location\":{\"street\":{\"number\":333,\"name\":\"W Pecan St\"},\"city\":\"Athens\",\"state\":\"Massachusetts\",\"country\":\"United States\",\"postcode\":25088,\"coordinates\":{\"latitude\":\"84.4856\",\"longitude\":\"107.3552\"},\"timezone\":{\"offset\":\"-7:00\",\"description\":\"Mountain Time (US & Canada)\"}},\"email\":\"derrick.wagner@example.com\",\"login\":{\"uuid\":\"99d11f15-d650-4c22-9c90-10d785ebe6e0\",\"username\":\"purplemouse736\",\"password\":\"lowrider\",\"salt\":\"gq4XA1IN\",\"md5\":\"db09e7acd0efe2150ae1dabfdd07d9ba\",\"sha1\":\"c1aec1440501c8058698b979f37f1f6b8ed837e0\",\"sha256\":\"62f98991e34fb44686a9cc6903bff23dcaef2b7b5be5751cdf7bce21bef64eea\"},\"dob\":{\"date\":\"1968-12-07T13:26:09.667Z\",\"age\":55},\"registered\":{\"date\":\"2010-10-28T13:50:14.455Z\",\"age\":13},\"phone\":\"(314) 934-9702\",\"cell\":\"(557) 249-8425\",\"id\":{\"name\":\"SSN\",\"value\":\"492-39-2450\"},\"picture\":{\"large\":\"https://randomuser.me/api/portraits/men/4.jpg\",\"medium\":\"https://randomuser.me/api/portraits/med/men/4.jpg\",\"thumbnail\":\"https://randomuser.me/api/portraits/thumb/men/4.jpg\"},\"nat\":\"US\"}],\"info\":{\"seed\":\"5f5446f5398b8001\",\"results\":10,\"page\":1,\"version\":\"1.4\"}}\n"
     ]
    }
   ],
   "source": [
    "print(response.text)\n"
   ]
  },
  {
   "cell_type": "code",
   "execution_count": 27,
   "metadata": {},
   "outputs": [
    {
     "name": "stdout",
     "output_type": "stream",
     "text": [
      "Type of data: <class 'dict'>\n"
     ]
    }
   ],
   "source": [
    "data = json.loads(response.text)\n",
    "print(\"Type of data:\", type(data))\n"
   ]
  },
  {
   "cell_type": "code",
   "execution_count": 28,
   "metadata": {},
   "outputs": [
    {
     "name": "stdout",
     "output_type": "stream",
     "text": [
      "Willard\n",
      "Randy\n",
      "Jeff\n",
      "Luke\n",
      "Danny\n",
      "Douglas\n",
      "Tomothy\n",
      "Gordon\n",
      "Nathan\n",
      "Derrick\n"
     ]
    }
   ],
   "source": [
    "for user in data['results']:\n",
    "    print(user['name']['first'])\n"
   ]
  },
  {
   "cell_type": "code",
   "execution_count": 29,
   "metadata": {},
   "outputs": [
    {
     "name": "stdout",
     "output_type": "stream",
     "text": [
      "Astronauts currently in space:\n",
      "Jasmin Moghbeli\n",
      "Andreas Mogensen\n",
      "Satoshi Furukawa\n",
      "Konstantin Borisov\n",
      "Oleg Kononenko\n",
      "Nikolai Chub\n",
      "Loral O'Hara\n",
      "Number of people in space: 7\n",
      "{'message': 'success',\n",
      " 'number': 7,\n",
      " 'people': [{'craft': 'ISS', 'name': 'Jasmin Moghbeli'},\n",
      "            {'craft': 'ISS', 'name': 'Andreas Mogensen'},\n",
      "            {'craft': 'ISS', 'name': 'Satoshi Furukawa'},\n",
      "            {'craft': 'ISS', 'name': 'Konstantin Borisov'},\n",
      "            {'craft': 'ISS', 'name': 'Oleg Kononenko'},\n",
      "            {'craft': 'ISS', 'name': 'Nikolai Chub'},\n",
      "            {'craft': 'ISS', 'name': \"Loral O'Hara\"}]}\n"
     ]
    }
   ],
   "source": [
    "astro_response = requests.get(\"http://api.open-notify.org/astros.json\")\n",
    "astro_data = json.loads(astro_response.text)\n",
    "\n",
    "# Print all astronaut names\n",
    "print(\"Astronauts currently in space:\")\n",
    "for astronaut in astro_data['people']:\n",
    "    print(astronaut['name'])\n",
    "\n",
    "# Print the number of people in space\n",
    "print(\"Number of people in space:\", astro_data['number'])\n",
    "\n",
    "# Pretty print the dictionary\n",
    "pprint(astro_data)\n"
   ]
  }
 ],
 "metadata": {
  "kernelspec": {
   "display_name": "Python 3",
   "language": "python",
   "name": "python3"
  },
  "language_info": {
   "codemirror_mode": {
    "name": "ipython",
    "version": 3
   },
   "file_extension": ".py",
   "mimetype": "text/x-python",
   "name": "python",
   "nbconvert_exporter": "python",
   "pygments_lexer": "ipython3",
   "version": "3.11.6"
  }
 },
 "nbformat": 4,
 "nbformat_minor": 2
}
